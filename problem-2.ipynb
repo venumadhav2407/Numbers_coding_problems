{
 "cells": [
  {
   "cell_type": "markdown",
   "metadata": {},
   "source": [
    "# Assume that you are ticket verifier at a club. Your club has decided to give a special discount to the person(s) who are satisfying the following condition\n",
    "\n",
    " \n",
    "\n",
    "Condition:-\n",
    "\n",
    "If ticket number is divisible by date of month. You are eligible for a discount.\n",
    "\n",
    "Input Description:\n",
    "First line contains input ‘n’.Next line contains n space separated numbers denoting ticket numbers .Next line contains ‘k’ date of the month.\n",
    "\n",
    "Output Description:\n",
    "Print 1 if the ticket is eligible for discount else 0\n",
    "\n",
    "Sample Input :\n",
    "6\n",
    "112 139 165 175 262 130\n",
    "22\n",
    "Sample Output :\n",
    "0 0 0 0 0 0"
   ]
  },
  {
   "cell_type": "code",
   "execution_count": 2,
   "metadata": {},
   "outputs": [
    {
     "name": "stdout",
     "output_type": "stream",
     "text": [
      "0 0 0 0 0 0\n"
     ]
    }
   ],
   "source": [
    "N = int(input())\n",
    "\n",
    "ticket_n = list(map(int, input().split()))\n",
    "\n",
    "date_ofM = int(input())\n",
    "\n",
    "eligible_list = [1 if i % date_ofM == 0 else 0 for i in ticket_n ]\n",
    "\n",
    "print(*eligible_list)"
   ]
  }
 ],
 "metadata": {
  "kernelspec": {
   "display_name": "Python 3",
   "language": "python",
   "name": "python3"
  },
  "language_info": {
   "codemirror_mode": {
    "name": "ipython",
    "version": 3
   },
   "file_extension": ".py",
   "mimetype": "text/x-python",
   "name": "python",
   "nbconvert_exporter": "python",
   "pygments_lexer": "ipython3",
   "version": "3.12.0"
  }
 },
 "nbformat": 4,
 "nbformat_minor": 2
}
