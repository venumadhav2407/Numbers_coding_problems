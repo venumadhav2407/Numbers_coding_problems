{
 "cells": [
  {
   "cell_type": "markdown",
   "metadata": {},
   "source": [
    "# You are an employee of ‘Rox Travel’ channel.The channel has decided to give allowances to some customer who satisfy these conditions. The conditions are:\n",
    "\n",
    "The customer should be born on or before july 22 1987\n",
    "\n",
    "The month of D.O.B month should be of 31 days.\n",
    "\n",
    "You are given with the D.O.B of all the employees.Your task is to print the employee index who are having chance to avail special offer.\n",
    "\n",
    "Input Description:\n",
    "First line contains the number of employee.Next line contains an array of D.O.B of employees\n",
    "\n",
    "Output Description:\n",
    "Print the employee index (index at 1). Print-1 if there are no such employee\n",
    "\n",
    "Sample Input :\n",
    "Input\n",
    "4\n",
    "23 MARCH 1996 23 MARCH 1986 22 JULY 1987 23 APRIL 1987\n",
    "Sample Output :\n",
    "2 3"
   ]
  },
  {
   "cell_type": "code",
   "execution_count": 3,
   "metadata": {},
   "outputs": [
    {
     "name": "stdout",
     "output_type": "stream",
     "text": [
      "2 3\n"
     ]
    }
   ],
   "source": [
    "from datetime import datetime\n",
    "import calendar as cl\n",
    "\n",
    "def get_index(N, li):\n",
    "\n",
    "    # group the D.O.B\n",
    "    grouped_li = [ li[i*3 : (i+1)*3] for i in range(N)] \n",
    "    \n",
    "    res = []\n",
    "    for i,x in enumerate(grouped_li):\n",
    "        # find the month number using month name and no_of_days of that month\n",
    "        month_num = datetime.strptime(x[1], '%B').month\n",
    "        \n",
    "        num_of_days = cl.monthrange(int(x[2]), month_num)[1]\n",
    "        # print(num_of_days)\n",
    "        # given date\n",
    "        givendate = datetime(1987, 7, 22)\n",
    "        \n",
    "        if datetime(int(x[2]), month_num, int(x[0])) <= givendate  and num_of_days == 31:\n",
    "                res.append(i+1)\n",
    "            \n",
    "    return res\n",
    "    \n",
    "\n",
    "\n",
    "\n",
    "N = int(input())\n",
    "li = list(map(str, input().split()))\n",
    "print(*get_index(N, li) if get_index(N, li) else -1)"
   ]
  }
 ],
 "metadata": {
  "kernelspec": {
   "display_name": "Python 3",
   "language": "python",
   "name": "python3"
  },
  "language_info": {
   "codemirror_mode": {
    "name": "ipython",
    "version": 3
   },
   "file_extension": ".py",
   "mimetype": "text/x-python",
   "name": "python",
   "nbconvert_exporter": "python",
   "pygments_lexer": "ipython3",
   "version": "3.12.0"
  }
 },
 "nbformat": 4,
 "nbformat_minor": 2
}
