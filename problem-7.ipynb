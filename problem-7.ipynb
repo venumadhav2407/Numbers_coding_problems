{
 "cells": [
  {
   "cell_type": "markdown",
   "metadata": {},
   "source": [
    "# You are provided with a number ’n’. Your task is to tell whether that number is saturated. A saturated number is a number which is made by exactly two digits.\n",
    "\n",
    "Input Description:\n",
    "You are given with a number n.\n",
    "\n",
    "Output Description:\n",
    "Print Saturated if it is saturated else it is Unsaturated\n",
    "\n",
    "Sample Input :\n",
    "121\n",
    "Sample Output :\n",
    "Saturated"
   ]
  },
  {
   "cell_type": "code",
   "execution_count": 5,
   "metadata": {},
   "outputs": [
    {
     "name": "stdout",
     "output_type": "stream",
     "text": [
      "Saturated\n"
     ]
    }
   ],
   "source": [
    "num = input()\n",
    "\n",
    "print('Saturated' if len(set(num)) == 2 else 'Unsaturated')"
   ]
  }
 ],
 "metadata": {
  "kernelspec": {
   "display_name": "Python 3",
   "language": "python",
   "name": "python3"
  },
  "language_info": {
   "codemirror_mode": {
    "name": "ipython",
    "version": 3
   },
   "file_extension": ".py",
   "mimetype": "text/x-python",
   "name": "python",
   "nbconvert_exporter": "python",
   "pygments_lexer": "ipython3",
   "version": "3.12.0"
  }
 },
 "nbformat": 4,
 "nbformat_minor": 2
}
