{
 "cells": [
  {
   "cell_type": "markdown",
   "metadata": {},
   "source": [
    "# You are given an array of digits. Your task is to print the digit with maximum frequency.\n",
    "\n",
    "Input Description:\n",
    "You are given length of array ’n’,next line contains n space separated numbers.\n",
    "\n",
    "Output Description:\n",
    "Print the number with maximum frequency. If two number have equal frequency print the number that comes first\n",
    "\n",
    "Sample Input :\n",
    "7\n",
    "1 2 3 4 4 4 5\n",
    "Sample Output :\n",
    "4"
   ]
  },
  {
   "cell_type": "code",
   "execution_count": 1,
   "metadata": {},
   "outputs": [
    {
     "name": "stdout",
     "output_type": "stream",
     "text": [
      "[1, 3, 3, 2, 2, 9, 6, 6, 6, 4, 4, 4]\n",
      "6\n"
     ]
    }
   ],
   "source": [
    "N = int(input())\n",
    "\n",
    "li = list(map(int, input().split()))\n",
    "\n",
    "dic_count = {} # count the repeated number in the list\n",
    "\n",
    "for i in li:\n",
    "    if i in dic_count:\n",
    "        dic_count[i] += 1\n",
    "    else:\n",
    "        dic_count[i] = 1\n",
    "        \n",
    "# check the max frequency\n",
    "max_f = [k for k,v in dic_count.items() if max(dic_count.values()) == v][0] # if two values have same frequency get the 0th value\n",
    "\n",
    "print(li)\n",
    "print(max_f)\n"
   ]
  }
 ],
 "metadata": {
  "kernelspec": {
   "display_name": "Python 3",
   "language": "python",
   "name": "python3"
  },
  "language_info": {
   "codemirror_mode": {
    "name": "ipython",
    "version": 3
   },
   "file_extension": ".py",
   "mimetype": "text/x-python",
   "name": "python",
   "nbconvert_exporter": "python",
   "pygments_lexer": "ipython3",
   "version": "3.12.0"
  }
 },
 "nbformat": 4,
 "nbformat_minor": 2
}
