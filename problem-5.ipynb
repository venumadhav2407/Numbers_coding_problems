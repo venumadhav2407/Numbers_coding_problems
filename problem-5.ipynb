{
 "cells": [
  {
   "cell_type": "markdown",
   "metadata": {},
   "source": [
    "# In a garage the service man takes 10 minutes to service one car.If there are N cars in garage and X is number of minutes after which one person arrives,Calculate how much time last person has to wait in garage.(Print answer in minutes)\n",
    "\n",
    "Input Description:\n",
    "You are given Two numbers ‘N’ and ‘X’\n",
    "\n",
    "Output Description:\n",
    "Waiting time of last person\n",
    "\n",
    "Sample Input :\n",
    "4 5\n",
    "Sample Output :\n",
    "15"
   ]
  },
  {
   "cell_type": "markdown",
   "metadata": {},
   "source": [
    "### Pseudocode\n",
    "Calculate the arrival time of the last person: arrival_time_last_person = (N-1) * X.\n",
    "\n",
    "Calculate the service time for the first  𝑁 − 1\n",
    "N−1 cars: service_time_previous_cars = (N-1) * 10.\n",
    "\n",
    "Determine the wait time:\n",
    "        If arrival_time_last_person >= service_time_previous_cars, the wait time is 0.\n",
    "        Otherwise, the wait time is service_time_previous_cars - arrival_time_last_person."
   ]
  },
  {
   "cell_type": "code",
   "execution_count": 3,
   "metadata": {},
   "outputs": [
    {
     "name": "stdout",
     "output_type": "stream",
     "text": [
      "28\n"
     ]
    }
   ],
   "source": [
    "def calculate_wait_time(N, X):\n",
    "    \n",
    "    arrival_time_last_person = (N - 1) * X\n",
    "    \n",
    "    # Total service time for the first (N-1) cars\n",
    "    service_time_previous_cars = (N - 1) * 10\n",
    "    \n",
    "    # Calculate the wait time\n",
    "    if arrival_time_last_person >= service_time_previous_cars:\n",
    "        wait_time = 0\n",
    "    else:\n",
    "        wait_time = service_time_previous_cars - arrival_time_last_person\n",
    "    \n",
    "    return wait_time\n",
    "\n",
    "\n",
    "\n",
    "N, X = map(int, input().split())\n",
    "\n",
    "\n",
    "print( calculate_wait_time(N,X))"
   ]
  }
 ],
 "metadata": {
  "kernelspec": {
   "display_name": "Python 3",
   "language": "python",
   "name": "python3"
  },
  "language_info": {
   "codemirror_mode": {
    "name": "ipython",
    "version": 3
   },
   "file_extension": ".py",
   "mimetype": "text/x-python",
   "name": "python",
   "nbconvert_exporter": "python",
   "pygments_lexer": "ipython3",
   "version": "3.12.0"
  }
 },
 "nbformat": 4,
 "nbformat_minor": 2
}
