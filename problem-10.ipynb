{
 "cells": [
  {
   "cell_type": "markdown",
   "metadata": {},
   "source": [
    "# You are given a number ‘n’.Your task is to develop an algorithm to tell whether the number is ‘ajs’ or not.An ‘ajs’ number is a number whose sum of first two digits is present in given number ‘n’\n",
    "\n",
    "Input Description:\n",
    "A number ’n’ is given to you\n",
    "\n",
    "Output Description:\n",
    "Print 1 if number is ajs or 0 if it is not\n",
    "\n",
    "Sample Input :\n",
    "9817\n",
    "Sample Output :\n",
    "1"
   ]
  },
  {
   "cell_type": "code",
   "execution_count": 2,
   "metadata": {},
   "outputs": [
    {
     "name": "stdout",
     "output_type": "stream",
     "text": [
      "1\n"
     ]
    }
   ],
   "source": [
    "\n",
    "def is_ajs(num):\n",
    "    # convert number into string \n",
    "    n_str = str(num)\n",
    "    \n",
    "    f_d = int(n_str[0])\n",
    "    s_d = int(n_str[1])\n",
    "    \n",
    "    if str(f_d + s_d) in n_str:\n",
    "        return 1\n",
    "    else:\n",
    "        return 0\n",
    "\n",
    "num = int(input())\n",
    "print(is_ajs(num))\n",
    "\n"
   ]
  }
 ],
 "metadata": {
  "kernelspec": {
   "display_name": "Python 3",
   "language": "python",
   "name": "python3"
  },
  "language_info": {
   "codemirror_mode": {
    "name": "ipython",
    "version": 3
   },
   "file_extension": ".py",
   "mimetype": "text/x-python",
   "name": "python",
   "nbconvert_exporter": "python",
   "pygments_lexer": "ipython3",
   "version": "3.12.0"
  }
 },
 "nbformat": 4,
 "nbformat_minor": 2
}
