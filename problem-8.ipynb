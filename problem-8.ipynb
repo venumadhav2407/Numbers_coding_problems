{
 "cells": [
  {
   "cell_type": "markdown",
   "metadata": {},
   "source": [
    "# You are given with a number ‘n’. You have to count the pair of two numbers a and b such that sum of two numbers are equal to n.\n",
    "\n",
    " \n",
    "\n",
    "Note:Both numbers lie in range 1<=a,b<n\n",
    "\n",
    "Input Description:\n",
    "You are given a number ‘n’\n",
    "\n",
    "Output Description:\n",
    "Print the number of pairs satisfying above condition\n",
    "\n",
    "Sample Input :\n",
    "5\n",
    "Sample Output :\n",
    "4"
   ]
  },
  {
   "cell_type": "code",
   "execution_count": 1,
   "metadata": {},
   "outputs": [
    {
     "name": "stdout",
     "output_type": "stream",
     "text": [
      "4\n"
     ]
    }
   ],
   "source": [
    "\n",
    "def count_pair(n):\n",
    "    \n",
    "    count = 0\n",
    "    for a in range(1, n):\n",
    "        for b in range(1, n):\n",
    "            if a+b == n:\n",
    "                count += 1\n",
    "    return count\n",
    "\n",
    "num = int(input())\n",
    "print(count_pair(num))\n"
   ]
  }
 ],
 "metadata": {
  "kernelspec": {
   "display_name": "Python 3",
   "language": "python",
   "name": "python3"
  },
  "language_info": {
   "codemirror_mode": {
    "name": "ipython",
    "version": 3
   },
   "file_extension": ".py",
   "mimetype": "text/x-python",
   "name": "python",
   "nbconvert_exporter": "python",
   "pygments_lexer": "ipython3",
   "version": "3.12.0"
  }
 },
 "nbformat": 4,
 "nbformat_minor": 2
}
