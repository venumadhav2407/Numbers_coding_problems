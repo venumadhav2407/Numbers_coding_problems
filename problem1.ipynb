Input Description:
You are given length of array ’n’,next line contains n space separated numbers.

Output Description:
Print the number with maximum frequency. If two number have equal freqency prin the number that comes first

Sample Input :
7
1 2 3 4 4 4 5
Sample Output :
4
