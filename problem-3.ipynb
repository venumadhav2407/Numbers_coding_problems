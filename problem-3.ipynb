{
 "cells": [
  {
   "cell_type": "markdown",
   "metadata": {},
   "source": [
    "# Prateek finds it difficult to judge the minimum element in the list of elements given to him. Your task is to develop the algorithm in order to find the minimum element.\n",
    "\n",
    "Input Description:\n",
    "You are given ‘n’ number of elements. Next line contains n space separated numbers.\n",
    "\n",
    "Output Description:\n",
    "Print the minimum element\n",
    "\n",
    "Sample Input :\n",
    "5\n",
    "3 4 9 1 6\n",
    "Sample Output :\n",
    "1"
   ]
  },
  {
   "cell_type": "code",
   "execution_count": 1,
   "metadata": {},
   "outputs": [
    {
     "name": "stdout",
     "output_type": "stream",
     "text": [
      "1\n"
     ]
    }
   ],
   "source": [
    "N = int(input())\n",
    "\n",
    "li = list(map(int, input().split()))\n",
    "\n",
    "min_val = li[0]\n",
    "\n",
    "for i in range(len(li)):\n",
    "    if li[i] < min_val:\n",
    "        min_val = li[i]\n",
    "\n",
    "print(min_val)"
   ]
  }
 ],
 "metadata": {
  "kernelspec": {
   "display_name": "Python 3",
   "language": "python",
   "name": "python3"
  },
  "language_info": {
   "codemirror_mode": {
    "name": "ipython",
    "version": 3
   },
   "file_extension": ".py",
   "mimetype": "text/x-python",
   "name": "python",
   "nbconvert_exporter": "python",
   "pygments_lexer": "ipython3",
   "version": "3.12.0"
  }
 },
 "nbformat": 4,
 "nbformat_minor": 2
}
