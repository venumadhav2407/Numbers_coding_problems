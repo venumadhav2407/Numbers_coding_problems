{
 "cells": [
  {
   "cell_type": "code",
   "execution_count": 1,
   "id": "79a25108-8ef2-43f4-a1d8-5baa512ad223",
   "metadata": {},
   "outputs": [
    {
     "name": "stdout",
     "output_type": "stream",
     "text": [
      "Requirement already satisfied: numpy in c:\\programdata\\anaconda3\\lib\\site-packages (1.26.4)\n",
      "Note: you may need to restart the kernel to use updated packages.\n"
     ]
    }
   ],
   "source": [
    "pip install numpy"
   ]
  },
  {
   "cell_type": "code",
   "execution_count": 2,
   "id": "fa0d7ba9-5a2f-4a67-ae4b-0d0695102ff8",
   "metadata": {},
   "outputs": [],
   "source": [
    "import numpy as np"
   ]
  },
  {
   "cell_type": "code",
   "execution_count": 7,
   "id": "2f1207fb-7573-4037-a016-39ba7796ebed",
   "metadata": {},
   "outputs": [
    {
     "name": "stdout",
     "output_type": "stream",
     "text": [
      "[1 2 3 4 5 6]\n"
     ]
    }
   ],
   "source": [
    "print(np.array([1,2,3,4,5,6]))"
   ]
  },
  {
   "cell_type": "code",
   "execution_count": 13,
   "id": "19b610f3-b4f8-49ee-b872-6642fae51cfa",
   "metadata": {},
   "outputs": [
    {
     "name": "stdout",
     "output_type": "stream",
     "text": [
      "python list took:  566.986083984375 ms\n",
      "python list took:  44.00920867919922 ms\n"
     ]
    }
   ],
   "source": [
    "# time comparison\n",
    "import time\n",
    "size = 1000000\n",
    "\n",
    "# python list\n",
    "l1 = range(size)\n",
    "l2 = range(size)\n",
    "\n",
    "\n",
    "# numpy array\n",
    "n1 = np.array(size)\n",
    "n2 = np.array(size)\n",
    "\n",
    "# list time cal\n",
    "start = time.time()\n",
    "res =  [(x+y) for x, y  in zip(l1,l2)]\n",
    "print(\"python list took: \", (time.time() - start)*1000, 'ms')\n",
    "\n",
    "\n",
    "# nympy time cal\n",
    "start = time.time()\n",
    "res =  n1+n2\n",
    "print(\"python list took: \", (time.time() - start)*1000, 'ms')\n"
   ]
  },
  {
   "cell_type": "code",
   "execution_count": 15,
   "id": "dde9d5ca-b3dc-4fa0-8b95-9e7619373d86",
   "metadata": {},
   "outputs": [
    {
     "data": {
      "text/plain": [
       "12.863636363636363"
      ]
     },
     "execution_count": 15,
     "metadata": {},
     "output_type": "execute_result"
    }
   ],
   "source": [
    "566/44"
   ]
  },
  {
   "cell_type": "code",
   "execution_count": 17,
   "id": "42f98826-483e-4753-8eee-22d50bc8e71c",
   "metadata": {},
   "outputs": [
    {
     "data": {
      "text/plain": [
       "14.785714285714286"
      ]
     },
     "execution_count": 17,
     "metadata": {},
     "output_type": "execute_result"
    }
   ],
   "source": [
    "207/14\n"
   ]
  },
  {
   "cell_type": "code",
   "execution_count": null,
   "id": "750c425e-f5cf-4abd-a45a-b30f7dbe315f",
   "metadata": {},
   "outputs": [],
   "source": []
  },
  {
   "cell_type": "code",
   "execution_count": 19,
   "id": "b6a94af8-33f9-4ef6-8cd0-a78ce96304ad",
   "metadata": {},
   "outputs": [
    {
     "name": "stdout",
     "output_type": "stream",
     "text": [
      "standard normal matrix :\n",
      " [[-0.16354347  0.91543251  0.00376818  0.4934316 ]\n",
      " [-0.36797329 -1.38611896 -1.46539808 -0.7333365 ]\n",
      " [-0.19199922  0.63436968 -0.39018053 -0.01788789]]\n"
     ]
    }
   ],
   "source": [
    "# standard normal\n",
    "mat1 = np.random.randn(3, 4)\n",
    "print(\"standard normal matrix :\\n\", mat1)"
   ]
  },
  {
   "cell_type": "code",
   "execution_count": 21,
   "id": "b5e055c9-f780-4301-9437-d1266b4b90e6",
   "metadata": {},
   "outputs": [
    {
     "name": "stdout",
     "output_type": "stream",
     "text": [
      "uniform  distribution matrix :\n",
      " [[0.47806113 0.74699398 0.52825908]\n",
      " [0.26493792 0.13894461 0.13548233]\n",
      " [0.14816198 0.76446562 0.98892061]\n",
      " [0.76261374 0.6899492  0.26266653]]\n"
     ]
    }
   ],
   "source": [
    "# uniform distribution\n",
    "mat1 = np.random.rand(4, 3)\n",
    "print(\"uniform  distribution matrix :\\n\", mat1)"
   ]
  },
  {
   "cell_type": "code",
   "execution_count": 23,
   "id": "c5d459dd-108c-4db8-ba10-f4c7169c0530",
   "metadata": {},
   "outputs": [
    {
     "name": "stdout",
     "output_type": "stream",
     "text": [
      "Random integer matrix :\n",
      " [[22 78]\n",
      " [38 76]]\n"
     ]
    }
   ],
   "source": [
    "# array of random integers\n",
    "mat1 = np.random.randint(low = 1, high= 100, size = (2,2))\n",
    "print(\"Random integer matrix :\\n\", mat1)"
   ]
  },
  {
   "cell_type": "code",
   "execution_count": 25,
   "id": "13210c20-c3df-4ba2-ab75-07713ba6edbf",
   "metadata": {},
   "outputs": [
    {
     "data": {
      "text/plain": [
       "array([ 5., 10., 15., 20., 25., 30., 35., 40., 45.])"
      ]
     },
     "execution_count": 25,
     "metadata": {},
     "output_type": "execute_result"
    }
   ],
   "source": [
    "# getting the sequence of data\n",
    "np.arange(start = 5, stop = 50, step = 5, dtype = float)"
   ]
  },
  {
   "cell_type": "code",
   "execution_count": 29,
   "id": "807f5efc-d979-4edf-a642-03409d9ec6e4",
   "metadata": {},
   "outputs": [
    {
     "data": {
      "text/plain": [
       "numpy.ndarray"
      ]
     },
     "execution_count": 29,
     "metadata": {},
     "output_type": "execute_result"
    }
   ],
   "source": [
    "np.arange(start = 5, stop = 50, step = 5)\n",
    "type(np.arange(start = 5, stop = 50, step = 5))"
   ]
  },
  {
   "cell_type": "code",
   "execution_count": 31,
   "id": "4ce5dc14-b951-4aab-abed-c18c7f8a8ccd",
   "metadata": {},
   "outputs": [
    {
     "name": "stdout",
     "output_type": "stream",
     "text": [
      "shape: (3, 2)\n",
      "no of ele: 6\n",
      "data type: int32\n",
      "dimensions: 2\n",
      "Array: [[3 1]\n",
      " [5 6]\n",
      " [9 5]]\n",
      "length or no of ele: 3\n"
     ]
    }
   ],
   "source": [
    "# attribute of array\n",
    "a = np.array([[3,1],\n",
    "              [5,6],\n",
    "              [9,5]])\n",
    "print(\"shape:\", a.shape)\n",
    "print(\"no of ele:\", a.size)\n",
    "print(\"data type:\", a.dtype)\n",
    "print(\"dimensions:\", a.ndim)\n",
    "print(\"Array:\", a)\n",
    "print(\"length or no of ele:\", len(a))"
   ]
  },
  {
   "cell_type": "code",
   "execution_count": null,
   "id": "592e3ef3-223a-4e50-bd1a-214dd9621d29",
   "metadata": {},
   "outputs": [],
   "source": []
  },
  {
   "cell_type": "code",
   "execution_count": null,
   "id": "9ddfba66-3276-419b-b42d-b3cc08589298",
   "metadata": {},
   "outputs": [],
   "source": []
  },
  {
   "cell_type": "code",
   "execution_count": 39,
   "id": "b16bc3fc-20c5-411a-8c1c-858352889376",
   "metadata": {},
   "outputs": [
    {
     "name": "stdout",
     "output_type": "stream",
     "text": [
      "Requirement already satisfied: pandas in c:\\programdata\\anaconda3\\lib\\site-packages (2.1.4)Note: you may need to restart the kernel to use updated packages.\n",
      "\n",
      "Requirement already satisfied: numpy<2,>=1.23.2 in c:\\programdata\\anaconda3\\lib\\site-packages (from pandas) (1.26.4)\n",
      "Requirement already satisfied: python-dateutil>=2.8.2 in c:\\programdata\\anaconda3\\lib\\site-packages (from pandas) (2.8.2)\n",
      "Requirement already satisfied: pytz>=2020.1 in c:\\programdata\\anaconda3\\lib\\site-packages (from pandas) (2023.3.post1)\n",
      "Requirement already satisfied: tzdata>=2022.1 in c:\\programdata\\anaconda3\\lib\\site-packages (from pandas) (2023.3)\n",
      "Requirement already satisfied: six>=1.5 in c:\\programdata\\anaconda3\\lib\\site-packages (from python-dateutil>=2.8.2->pandas) (1.16.0)\n"
     ]
    }
   ],
   "source": [
    "\n",
    "pip install pandas"
   ]
  },
  {
   "cell_type": "code",
   "execution_count": 47,
   "id": "e714cfe1-28c4-41ec-9745-da58f4b2b98b",
   "metadata": {},
   "outputs": [
    {
     "data": {
      "text/html": [
       "<div>\n",
       "<style scoped>\n",
       "    .dataframe tbody tr th:only-of-type {\n",
       "        vertical-align: middle;\n",
       "    }\n",
       "\n",
       "    .dataframe tbody tr th {\n",
       "        vertical-align: top;\n",
       "    }\n",
       "\n",
       "    .dataframe thead th {\n",
       "        text-align: right;\n",
       "    }\n",
       "</style>\n",
       "<table border=\"1\" class=\"dataframe\">\n",
       "  <thead>\n",
       "    <tr style=\"text-align: right;\">\n",
       "      <th></th>\n",
       "      <th>Sample</th>\n",
       "      <th>Material1</th>\n",
       "      <th>Material2</th>\n",
       "      <th>Material3</th>\n",
       "      <th>Condition</th>\n",
       "      <th>Octane</th>\n",
       "    </tr>\n",
       "  </thead>\n",
       "  <tbody>\n",
       "    <tr>\n",
       "      <th>0</th>\n",
       "      <td>1</td>\n",
       "      <td>55.33</td>\n",
       "      <td>1.72</td>\n",
       "      <td>54</td>\n",
       "      <td>1.66219</td>\n",
       "      <td>92.19</td>\n",
       "    </tr>\n",
       "    <tr>\n",
       "      <th>1</th>\n",
       "      <td>2</td>\n",
       "      <td>59.13</td>\n",
       "      <td>1.20</td>\n",
       "      <td>53</td>\n",
       "      <td>1.58399</td>\n",
       "      <td>92.74</td>\n",
       "    </tr>\n",
       "    <tr>\n",
       "      <th>2</th>\n",
       "      <td>3</td>\n",
       "      <td>57.39</td>\n",
       "      <td>1.42</td>\n",
       "      <td>55</td>\n",
       "      <td>1.61731</td>\n",
       "      <td>91.88</td>\n",
       "    </tr>\n",
       "    <tr>\n",
       "      <th>3</th>\n",
       "      <td>4</td>\n",
       "      <td>56.43</td>\n",
       "      <td>1.78</td>\n",
       "      <td>55</td>\n",
       "      <td>1.66228</td>\n",
       "      <td>92.80</td>\n",
       "    </tr>\n",
       "    <tr>\n",
       "      <th>4</th>\n",
       "      <td>5</td>\n",
       "      <td>55.98</td>\n",
       "      <td>1.58</td>\n",
       "      <td>54</td>\n",
       "      <td>1.63195</td>\n",
       "      <td>92.56</td>\n",
       "    </tr>\n",
       "  </tbody>\n",
       "</table>\n",
       "</div>"
      ],
      "text/plain": [
       "   Sample  Material1  Material2  Material3  Condition  Octane\n",
       "0       1      55.33       1.72         54    1.66219   92.19\n",
       "1       2      59.13       1.20         53    1.58399   92.74\n",
       "2       3      57.39       1.42         55    1.61731   91.88\n",
       "3       4      56.43       1.78         55    1.66228   92.80\n",
       "4       5      55.98       1.58         54    1.63195   92.56"
      ]
     },
     "execution_count": 47,
     "metadata": {},
     "output_type": "execute_result"
    }
   ],
   "source": [
    "import pandas as pd\n",
    "\n",
    "df = pd.read_csv(\"C:/Users/bvm20/Desktop/Octane(20240614_192108).csv\")\n",
    "df.head()"
   ]
  },
  {
   "cell_type": "code",
   "execution_count": 49,
   "id": "0f60ecb5-d5b7-4111-bfb3-ed5d3c226036",
   "metadata": {},
   "outputs": [
    {
     "data": {
      "text/plain": [
       "False"
      ]
     },
     "execution_count": 49,
     "metadata": {},
     "output_type": "execute_result"
    }
   ],
   "source": [
    "df.isnull().sum().any()"
   ]
  },
  {
   "cell_type": "code",
   "execution_count": 51,
   "id": "f4a0357d-0408-4485-9a1d-830b7eda7d5d",
   "metadata": {},
   "outputs": [
    {
     "data": {
      "text/plain": [
       "Sample       0\n",
       "Material1    0\n",
       "Material2    0\n",
       "Material3    0\n",
       "Condition    0\n",
       "Octane       0\n",
       "dtype: int64"
      ]
     },
     "execution_count": 51,
     "metadata": {},
     "output_type": "execute_result"
    }
   ],
   "source": [
    "df.isnull().sum()"
   ]
  },
  {
   "cell_type": "code",
   "execution_count": 53,
   "id": "671830e2-5f40-4a95-9af6-da1c95b3722e",
   "metadata": {},
   "outputs": [
    {
     "data": {
      "text/plain": [
       "0"
      ]
     },
     "execution_count": 53,
     "metadata": {},
     "output_type": "execute_result"
    }
   ],
   "source": [
    "df.duplicated().sum()"
   ]
  },
  {
   "cell_type": "code",
   "execution_count": 55,
   "id": "fbf5ccf1-1649-4a5d-8422-28cb22cd38e0",
   "metadata": {},
   "outputs": [
    {
     "name": "stdout",
     "output_type": "stream",
     "text": [
      "<class 'pandas.core.frame.DataFrame'>\n",
      "RangeIndex: 82 entries, 0 to 81\n",
      "Data columns (total 6 columns):\n",
      " #   Column     Non-Null Count  Dtype  \n",
      "---  ------     --------------  -----  \n",
      " 0   Sample     82 non-null     int64  \n",
      " 1   Material1  82 non-null     float64\n",
      " 2   Material2  82 non-null     float64\n",
      " 3   Material3  82 non-null     int64  \n",
      " 4   Condition  82 non-null     float64\n",
      " 5   Octane     82 non-null     float64\n",
      "dtypes: float64(4), int64(2)\n",
      "memory usage: 4.0 KB\n"
     ]
    }
   ],
   "source": [
    "df.info()"
   ]
  },
  {
   "cell_type": "code",
   "execution_count": 57,
   "id": "1822e52b-c5d1-4f25-93fe-5c98f91eece4",
   "metadata": {},
   "outputs": [
    {
     "data": {
      "text/plain": [
       "Sample         int64\n",
       "Material1    float64\n",
       "Material2    float64\n",
       "Material3      int64\n",
       "Condition    float64\n",
       "Octane       float64\n",
       "dtype: object"
      ]
     },
     "execution_count": 57,
     "metadata": {},
     "output_type": "execute_result"
    }
   ],
   "source": [
    "df.dtypes"
   ]
  },
  {
   "cell_type": "code",
   "execution_count": null,
   "id": "b63bafdc-ec6d-49a2-9496-ba682d47da53",
   "metadata": {},
   "outputs": [],
   "source": []
  },
  {
   "cell_type": "code",
   "execution_count": null,
   "id": "13bf02dd-abd4-4697-803f-bf60fc8b5f80",
   "metadata": {},
   "outputs": [],
   "source": []
  },
  {
   "cell_type": "code",
   "execution_count": 59,
   "id": "4c144af6-654d-44dc-97a3-7e805cf7b203",
   "metadata": {},
   "outputs": [
    {
     "name": "stdout",
     "output_type": "stream",
     "text": [
      "Requirement already satisfied: matplotlib in c:\\programdata\\anaconda3\\lib\\site-packages (3.8.0)\n",
      "Requirement already satisfied: seaborn in c:\\programdata\\anaconda3\\lib\\site-packages (0.12.2)\n",
      "Requirement already satisfied: contourpy>=1.0.1 in c:\\programdata\\anaconda3\\lib\\site-packages (from matplotlib) (1.2.0)\n",
      "Requirement already satisfied: cycler>=0.10 in c:\\programdata\\anaconda3\\lib\\site-packages (from matplotlib) (0.11.0)\n",
      "Requirement already satisfied: fonttools>=4.22.0 in c:\\programdata\\anaconda3\\lib\\site-packages (from matplotlib) (4.25.0)\n",
      "Requirement already satisfied: kiwisolver>=1.0.1 in c:\\programdata\\anaconda3\\lib\\site-packages (from matplotlib) (1.4.4)\n",
      "Requirement already satisfied: numpy<2,>=1.21 in c:\\programdata\\anaconda3\\lib\\site-packages (from matplotlib) (1.26.4)\n",
      "Requirement already satisfied: packaging>=20.0 in c:\\programdata\\anaconda3\\lib\\site-packages (from matplotlib) (23.1)\n",
      "Requirement already satisfied: pillow>=6.2.0 in c:\\programdata\\anaconda3\\lib\\site-packages (from matplotlib) (10.2.0)\n",
      "Requirement already satisfied: pyparsing>=2.3.1 in c:\\programdata\\anaconda3\\lib\\site-packages (from matplotlib) (3.0.9)\n",
      "Requirement already satisfied: python-dateutil>=2.7 in c:\\programdata\\anaconda3\\lib\\site-packages (from matplotlib) (2.8.2)\n",
      "Requirement already satisfied: pandas>=0.25 in c:\\programdata\\anaconda3\\lib\\site-packages (from seaborn) (2.1.4)\n",
      "Requirement already satisfied: pytz>=2020.1 in c:\\programdata\\anaconda3\\lib\\site-packages (from pandas>=0.25->seaborn) (2023.3.post1)\n",
      "Requirement already satisfied: tzdata>=2022.1 in c:\\programdata\\anaconda3\\lib\\site-packages (from pandas>=0.25->seaborn) (2023.3)\n",
      "Requirement already satisfied: six>=1.5 in c:\\programdata\\anaconda3\\lib\\site-packages (from python-dateutil>=2.7->matplotlib) (1.16.0)\n",
      "Note: you may need to restart the kernel to use updated packages.\n"
     ]
    }
   ],
   "source": [
    "pip install matplotlib seaborn"
   ]
  },
  {
   "cell_type": "code",
   "execution_count": null,
   "id": "362fa83b-42af-4682-8fb9-8019f670b0dd",
   "metadata": {},
   "outputs": [],
   "source": []
  }
 ],
 "metadata": {
  "kernelspec": {
   "display_name": "Python 3 (ipykernel)",
   "language": "python",
   "name": "python3"
  },
  "language_info": {
   "codemirror_mode": {
    "name": "ipython",
    "version": 3
   },
   "file_extension": ".py",
   "mimetype": "text/x-python",
   "name": "python",
   "nbconvert_exporter": "python",
   "pygments_lexer": "ipython3",
   "version": "3.11.7"
  }
 },
 "nbformat": 4,
 "nbformat_minor": 5
}
