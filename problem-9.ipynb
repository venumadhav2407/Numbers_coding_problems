{
 "cells": [
  {
   "cell_type": "markdown",
   "metadata": {},
   "source": [
    "# Ramesh is given a special series to print,as he has some other work to do.Help ramesh in printing the series.\n",
    "\n",
    " \n",
    "\n",
    "Note:Observe the series very keenly in examples\n",
    "\n",
    "Input Description:\n",
    "You are given a number ‘n’.\n",
    "\n",
    "Output Description:\n",
    "Print the n term of series.\n",
    "\n",
    "Sample Input :\n",
    "6\n",
    "Sample Output :\n",
    "1 6 120"
   ]
  },
  {
   "cell_type": "code",
   "execution_count": 1,
   "metadata": {},
   "outputs": [
    {
     "name": "stdout",
     "output_type": "stream",
     "text": [
      "1 6 120 5040\n"
     ]
    }
   ],
   "source": [
    "\n",
    "def factorial(n):\n",
    "    if n == 1:\n",
    "        return 1\n",
    "    else:\n",
    "        return n * factorial(n-1)\n",
    "\n",
    "\n",
    "def find_series(n):\n",
    "    series = []\n",
    "    for i in range(1, n+1):\n",
    "        if i % 2 == 1:\n",
    "            series.append(factorial(i))\n",
    "    return series\n",
    "\n",
    "\n",
    "Num = int(input())\n",
    "print(*find_series(Num))"
   ]
  }
 ],
 "metadata": {
  "kernelspec": {
   "display_name": "Python 3",
   "language": "python",
   "name": "python3"
  },
  "language_info": {
   "codemirror_mode": {
    "name": "ipython",
    "version": 3
   },
   "file_extension": ".py",
   "mimetype": "text/x-python",
   "name": "python",
   "nbconvert_exporter": "python",
   "pygments_lexer": "ipython3",
   "version": "3.12.0"
  }
 },
 "nbformat": 4,
 "nbformat_minor": 2
}
